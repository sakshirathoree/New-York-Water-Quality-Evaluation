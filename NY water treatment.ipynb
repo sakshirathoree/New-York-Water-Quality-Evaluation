{
 "cells": [
  {
   "cell_type": "code",
   "execution_count": 36,
   "id": "c3b9be49",
   "metadata": {},
   "outputs": [],
   "source": [
    "import numpy as np\n",
    "import pandas as pd\n",
    "import matplotlib.pyplot as ply\n",
    "import seaborn as sns"
   ]
  },
  {
   "cell_type": "code",
   "execution_count": 37,
   "id": "4bb789d1",
   "metadata": {},
   "outputs": [],
   "source": [
    "df=pd.read_csv(\"drinking-water-quality-distribution-monitoring-data-1.csv\")"
   ]
  },
  {
   "cell_type": "markdown",
   "id": "4b335c82",
   "metadata": {},
   "source": [
    "# Perform Exploratory Data analysis"
   ]
  },
  {
   "cell_type": "code",
   "execution_count": 4,
   "id": "f8a08ca7",
   "metadata": {},
   "outputs": [
    {
     "data": {
      "text/html": [
       "<div>\n",
       "<style scoped>\n",
       "    .dataframe tbody tr th:only-of-type {\n",
       "        vertical-align: middle;\n",
       "    }\n",
       "\n",
       "    .dataframe tbody tr th {\n",
       "        vertical-align: top;\n",
       "    }\n",
       "\n",
       "    .dataframe thead th {\n",
       "        text-align: right;\n",
       "    }\n",
       "</style>\n",
       "<table border=\"1\" class=\"dataframe\">\n",
       "  <thead>\n",
       "    <tr style=\"text-align: right;\">\n",
       "      <th></th>\n",
       "      <th>Sample Number</th>\n",
       "      <th>Sample Date</th>\n",
       "      <th>Sample Time</th>\n",
       "      <th>Sample Site</th>\n",
       "      <th>Sample class</th>\n",
       "      <th>Location</th>\n",
       "      <th>Residual Free Chlorine (mg/L)</th>\n",
       "      <th>Turbidity (NTU)</th>\n",
       "      <th>Fluoride (mg/L)</th>\n",
       "      <th>Coliform (Quanti-Tray) (MPN /100mL)</th>\n",
       "      <th>E.coli(Quanti-Tray) (MPN/100mL)</th>\n",
       "    </tr>\n",
       "  </thead>\n",
       "  <tbody>\n",
       "    <tr>\n",
       "      <th>0</th>\n",
       "      <td>NaN</td>\n",
       "      <td>01/01/2015</td>\n",
       "      <td>12:19</td>\n",
       "      <td>1S07</td>\n",
       "      <td>Operational</td>\n",
       "      <td>SS - Shaft 7 of City Tunnel No. 1 - W/S Sedgwi...</td>\n",
       "      <td>0.58</td>\n",
       "      <td>0.96</td>\n",
       "      <td>0.79</td>\n",
       "      <td>&lt;1</td>\n",
       "      <td>&lt;1</td>\n",
       "    </tr>\n",
       "    <tr>\n",
       "      <th>1</th>\n",
       "      <td>NaN</td>\n",
       "      <td>01/01/2015</td>\n",
       "      <td>11:15</td>\n",
       "      <td>1S04</td>\n",
       "      <td>Operational</td>\n",
       "      <td>SS - Shaft 4 of City Tunnel No.1 - IFO 2780 Re...</td>\n",
       "      <td>0.71</td>\n",
       "      <td>0.94</td>\n",
       "      <td>0.80</td>\n",
       "      <td>&lt;1</td>\n",
       "      <td>&lt;1</td>\n",
       "    </tr>\n",
       "    <tr>\n",
       "      <th>2</th>\n",
       "      <td>NaN</td>\n",
       "      <td>01/01/2015</td>\n",
       "      <td>10:09</td>\n",
       "      <td>1S03A</td>\n",
       "      <td>Operational</td>\n",
       "      <td>SS - Shaft 3A of City Tunnel No. 2 - IFO 823 S...</td>\n",
       "      <td>0.79</td>\n",
       "      <td>0.93</td>\n",
       "      <td>0.79</td>\n",
       "      <td>&lt;1</td>\n",
       "      <td>&lt;1</td>\n",
       "    </tr>\n",
       "    <tr>\n",
       "      <th>3</th>\n",
       "      <td>NaN</td>\n",
       "      <td>01/01/2015</td>\n",
       "      <td>10:41</td>\n",
       "      <td>1S03B</td>\n",
       "      <td>Operational</td>\n",
       "      <td>SS - Shaft 3B of City Tunnel No. 3 - Mosholu A...</td>\n",
       "      <td>0.77</td>\n",
       "      <td>0.93</td>\n",
       "      <td>0.80</td>\n",
       "      <td>&lt;1</td>\n",
       "      <td>&lt;1</td>\n",
       "    </tr>\n",
       "    <tr>\n",
       "      <th>4</th>\n",
       "      <td>NaN</td>\n",
       "      <td>01/01/2015</td>\n",
       "      <td>09:38</td>\n",
       "      <td>11550</td>\n",
       "      <td>Compliance</td>\n",
       "      <td>SS - IFO 1058 S/S E Gun Hill Rd, 1st SS E/O Ho...</td>\n",
       "      <td>0.74</td>\n",
       "      <td>0.95</td>\n",
       "      <td>NaN</td>\n",
       "      <td>&lt;1</td>\n",
       "      <td>&lt;1</td>\n",
       "    </tr>\n",
       "  </tbody>\n",
       "</table>\n",
       "</div>"
      ],
      "text/plain": [
       "   Sample Number Sample Date Sample Time Sample Site Sample class  \\\n",
       "0            NaN  01/01/2015       12:19        1S07  Operational   \n",
       "1            NaN  01/01/2015       11:15        1S04  Operational   \n",
       "2            NaN  01/01/2015       10:09       1S03A  Operational   \n",
       "3            NaN  01/01/2015       10:41       1S03B  Operational   \n",
       "4            NaN  01/01/2015       09:38       11550   Compliance   \n",
       "\n",
       "                                            Location  \\\n",
       "0  SS - Shaft 7 of City Tunnel No. 1 - W/S Sedgwi...   \n",
       "1  SS - Shaft 4 of City Tunnel No.1 - IFO 2780 Re...   \n",
       "2  SS - Shaft 3A of City Tunnel No. 2 - IFO 823 S...   \n",
       "3  SS - Shaft 3B of City Tunnel No. 3 - Mosholu A...   \n",
       "4  SS - IFO 1058 S/S E Gun Hill Rd, 1st SS E/O Ho...   \n",
       "\n",
       "   Residual Free Chlorine (mg/L)  Turbidity (NTU)  Fluoride (mg/L)  \\\n",
       "0                           0.58             0.96             0.79   \n",
       "1                           0.71             0.94             0.80   \n",
       "2                           0.79             0.93             0.79   \n",
       "3                           0.77             0.93             0.80   \n",
       "4                           0.74             0.95              NaN   \n",
       "\n",
       "  Coliform (Quanti-Tray) (MPN /100mL) E.coli(Quanti-Tray) (MPN/100mL)  \n",
       "0                                 <1                              <1   \n",
       "1                                 <1                              <1   \n",
       "2                                 <1                              <1   \n",
       "3                                 <1                              <1   \n",
       "4                                 <1                              <1   "
      ]
     },
     "execution_count": 4,
     "metadata": {},
     "output_type": "execute_result"
    }
   ],
   "source": [
    "df.head()"
   ]
  },
  {
   "cell_type": "code",
   "execution_count": 5,
   "id": "5113419b",
   "metadata": {},
   "outputs": [
    {
     "name": "stdout",
     "output_type": "stream",
     "text": [
      "<class 'pandas.core.frame.DataFrame'>\n",
      "RangeIndex: 51327 entries, 0 to 51326\n",
      "Data columns (total 11 columns):\n",
      " #   Column                               Non-Null Count  Dtype  \n",
      "---  ------                               --------------  -----  \n",
      " 0   Sample Number                        42463 non-null  float64\n",
      " 1   Sample Date                          51327 non-null  object \n",
      " 2   Sample Time                          51327 non-null  object \n",
      " 3   Sample Site                          51327 non-null  object \n",
      " 4   Sample class                         51327 non-null  object \n",
      " 5   Location                             51327 non-null  object \n",
      " 6   Residual Free Chlorine (mg/L)        51324 non-null  float64\n",
      " 7   Turbidity (NTU)                      51165 non-null  float64\n",
      " 8   Fluoride (mg/L)                      6595 non-null   float64\n",
      " 9   Coliform (Quanti-Tray) (MPN /100mL)  51327 non-null  object \n",
      " 10  E.coli(Quanti-Tray) (MPN/100mL)      51327 non-null  object \n",
      "dtypes: float64(4), object(7)\n",
      "memory usage: 4.3+ MB\n"
     ]
    }
   ],
   "source": [
    "df.info()"
   ]
  },
  {
   "cell_type": "markdown",
   "id": "12b0d53b",
   "metadata": {},
   "source": [
    "Before jumping into EDA, let us first rename the column names for our ease of use"
   ]
  },
  {
   "cell_type": "code",
   "execution_count": 38,
   "id": "08caba4b",
   "metadata": {},
   "outputs": [],
   "source": [
    "df.rename(columns={\"Residual Free Chlorine (mg/L)\":\"Residual Free Chlorine\",\"Turbidity (NTU)\":\"Turbidity\",\"Fluoride (mg/L)\":\"Fluoride\",\"Coliform (Quanti-Tray) (MPN /100mL)\":\"Coliform\",\"E.coli(Quanti-Tray) (MPN/100mL)\":\"Ecoli\"}, inplace=True)"
   ]
  },
  {
   "cell_type": "code",
   "execution_count": 11,
   "id": "ddc473aa",
   "metadata": {},
   "outputs": [
    {
     "data": {
      "text/plain": [
       "Index(['Sample Number', 'Sample Date', 'Sample Time', 'Sample Site',\n",
       "       'Sample class', 'Location', 'Residual Free Chlorine', 'Turbidity',\n",
       "       'Fluoride', 'Coliform', 'Ecoli'],\n",
       "      dtype='object')"
      ]
     },
     "execution_count": 11,
     "metadata": {},
     "output_type": "execute_result"
    }
   ],
   "source": [
    "df.columns"
   ]
  },
  {
   "cell_type": "code",
   "execution_count": 13,
   "id": "4ff4ab59",
   "metadata": {},
   "outputs": [
    {
     "data": {
      "text/plain": [
       "(51327, 11)"
      ]
     },
     "execution_count": 13,
     "metadata": {},
     "output_type": "execute_result"
    }
   ],
   "source": [
    "df.shape"
   ]
  },
  {
   "cell_type": "code",
   "execution_count": 12,
   "id": "a414c958",
   "metadata": {},
   "outputs": [
    {
     "data": {
      "text/plain": [
       "Sample Number              8864\n",
       "Sample Date                   0\n",
       "Sample Time                   0\n",
       "Sample Site                   0\n",
       "Sample class                  0\n",
       "Location                      0\n",
       "Residual Free Chlorine        3\n",
       "Turbidity                   162\n",
       "Fluoride                  44732\n",
       "Coliform                      0\n",
       "Ecoli                         0\n",
       "dtype: int64"
      ]
     },
     "execution_count": 12,
     "metadata": {},
     "output_type": "execute_result"
    }
   ],
   "source": [
    "df.isnull().sum()"
   ]
  },
  {
   "cell_type": "markdown",
   "id": "b0c16f1f",
   "metadata": {},
   "source": [
    "There are many missing values for Sample Number, Fluoride, and Turbidity samples and we need to deal with thos missing values. Fluoride has 44,732 missing values which is almost 85 % of total records. This is too much of missing data for analysis. We can drop Sample Numbers which are just a unique identifier for each testing"
   ]
  },
  {
   "cell_type": "code",
   "execution_count": 39,
   "id": "cb3818cd",
   "metadata": {},
   "outputs": [],
   "source": [
    "df.drop(columns=[\"Sample Number\"],inplace=True)"
   ]
  },
  {
   "cell_type": "code",
   "execution_count": 21,
   "id": "eb3b9475",
   "metadata": {},
   "outputs": [
    {
     "data": {
      "text/plain": [
       "Index(['Sample Date', 'Sample Time', 'Sample Site', 'Sample class', 'Location',\n",
       "       'Residual Free Chlorine', 'Turbidity', 'Fluoride', 'Coliform', 'Ecoli'],\n",
       "      dtype='object')"
      ]
     },
     "execution_count": 21,
     "metadata": {},
     "output_type": "execute_result"
    }
   ],
   "source": [
    "df.columns"
   ]
  },
  {
   "cell_type": "markdown",
   "id": "02ad60c5",
   "metadata": {},
   "source": [
    "# Total unique locations in the dataset"
   ]
  },
  {
   "cell_type": "code",
   "execution_count": 40,
   "id": "cc659f45",
   "metadata": {},
   "outputs": [
    {
     "name": "stdout",
     "output_type": "stream",
     "text": [
      "Length of unique locations in the dataset 782\n"
     ]
    }
   ],
   "source": [
    "unique_locations=df[\"Location\"].unique()\n",
    "print(\"Length of unique locations in the dataset\",len(unique_locations))"
   ]
  },
  {
   "cell_type": "markdown",
   "id": "8476189d",
   "metadata": {},
   "source": [
    "# Analyzing the quality of water based on Residual Free Chlorine\n"
   ]
  },
  {
   "cell_type": "markdown",
   "id": "a39b02d8",
   "metadata": {},
   "source": [
    "Chlorine is added to water to inactivate bacterias and viruses which can cause water borne diseases. As per WHO the maximum allowable value for free chlorine residual in drinking water is 5 mg/L. Let us see if we have samples with value more than the recommended one"
   ]
  },
  {
   "cell_type": "code",
   "execution_count": 42,
   "id": "28243395",
   "metadata": {},
   "outputs": [
    {
     "data": {
      "text/plain": [
       "Sample Date               0.0\n",
       "Sample Time               0.0\n",
       "Sample Site               0.0\n",
       "Sample class              0.0\n",
       "Location                  0.0\n",
       "Residual Free Chlorine    0.0\n",
       "Turbidity                 0.0\n",
       "Fluoride                  0.0\n",
       "Coliform                  0.0\n",
       "Ecoli                     0.0\n",
       "dtype: float64"
      ]
     },
     "execution_count": 42,
     "metadata": {},
     "output_type": "execute_result"
    }
   ],
   "source": [
    "df[df[\"Residual Free Chlorine\"]>=5].sum()"
   ]
  },
  {
   "cell_type": "markdown",
   "id": "a9cd4554",
   "metadata": {},
   "source": [
    "From above graph we can see that none of the records has Residual Free Chlorine value more than 5 mg/L. \n",
    "**This concludes that all samples had recommended value range of Residual Free Chlorine and is safe for drinking**"
   ]
  },
  {
   "cell_type": "code",
   "execution_count": 48,
   "id": "96065e6f",
   "metadata": {},
   "outputs": [
    {
     "data": {
      "text/plain": [
       "<AxesSubplot:xlabel='Residual Free Chlorine', ylabel='Density'>"
      ]
     },
     "execution_count": 48,
     "metadata": {},
     "output_type": "execute_result"
    },
    {
     "data": {
      "image/png": "[encoded data removed]",
      "text/plain": [
       "<Figure size 432x288 with 1 Axes>"
      ]
     },
     "metadata": {
      "needs_background": "light"
     },
     "output_type": "display_data"
    }
   ],
   "source": [
    "sns.kdeplot(df[\"Residual Free Chlorine\"],shade=True)"
   ]
  },
  {
   "cell_type": "markdown",
   "id": "f8184c0b",
   "metadata": {},
   "source": [
    "**The value of Residual Free Chlorine mostly lies between 0 to 1.7 which is well below the recommended value of 5 mg/L**"
   ]
  },
  {
   "cell_type": "markdown",
   "id": "604a1914",
   "metadata": {},
   "source": [
    "# Analyzing the quality of Turbidity"
   ]
  },
  {
   "cell_type": "code",
   "execution_count": 51,
   "id": "1b339c5a",
   "metadata": {},
   "outputs": [
    {
     "data": {
      "text/html": [
       "<div>\n",
       "<style scoped>\n",
       "    .dataframe tbody tr th:only-of-type {\n",
       "        vertical-align: middle;\n",
       "    }\n",
       "\n",
       "    .dataframe tbody tr th {\n",
       "        vertical-align: top;\n",
       "    }\n",
       "\n",
       "    .dataframe thead th {\n",
       "        text-align: right;\n",
       "    }\n",
       "</style>\n",
       "<table border=\"1\" class=\"dataframe\">\n",
       "  <thead>\n",
       "    <tr style=\"text-align: right;\">\n",
       "      <th></th>\n",
       "      <th>Sample Date</th>\n",
       "      <th>Sample Time</th>\n",
       "      <th>Sample Site</th>\n",
       "      <th>Sample class</th>\n",
       "      <th>Location</th>\n",
       "      <th>Residual Free Chlorine</th>\n",
       "      <th>Turbidity</th>\n",
       "      <th>Fluoride</th>\n",
       "      <th>Coliform</th>\n",
       "      <th>Ecoli</th>\n",
       "    </tr>\n",
       "  </thead>\n",
       "  <tbody>\n",
       "    <tr>\n",
       "      <th>5</th>\n",
       "      <td>01/01/2015</td>\n",
       "      <td>08:41</td>\n",
       "      <td>13850</td>\n",
       "      <td>Compliance</td>\n",
       "      <td>SS - IFO 1778 E/S Jerome Ave, 1st SS S/O E 176...</td>\n",
       "      <td>0.59</td>\n",
       "      <td>1.08</td>\n",
       "      <td>NaN</td>\n",
       "      <td>&lt;1</td>\n",
       "      <td>&lt;1</td>\n",
       "    </tr>\n",
       "    <tr>\n",
       "      <th>12</th>\n",
       "      <td>01/01/2015</td>\n",
       "      <td>09:00</td>\n",
       "      <td>23650</td>\n",
       "      <td>Compliance</td>\n",
       "      <td>SS - E/S Nostrand Ave, 2nd SS N/O Ave W, 20 inch</td>\n",
       "      <td>0.63</td>\n",
       "      <td>1.02</td>\n",
       "      <td>NaN</td>\n",
       "      <td>&lt;1</td>\n",
       "      <td>&lt;1</td>\n",
       "    </tr>\n",
       "    <tr>\n",
       "      <th>15</th>\n",
       "      <td>01/01/2015</td>\n",
       "      <td>10:28</td>\n",
       "      <td>27000</td>\n",
       "      <td>Operational</td>\n",
       "      <td>SS - IFO 383 W/S Hooper St, btw S 1st &amp; S 2nd ...</td>\n",
       "      <td>0.53</td>\n",
       "      <td>1.06</td>\n",
       "      <td>NaN</td>\n",
       "      <td>&lt;1</td>\n",
       "      <td>&lt;1</td>\n",
       "    </tr>\n",
       "    <tr>\n",
       "      <th>22</th>\n",
       "      <td>01/01/2015</td>\n",
       "      <td>08:07</td>\n",
       "      <td>40200</td>\n",
       "      <td>Operational</td>\n",
       "      <td>SS - S/S 19th Ave, btw 41st &amp; Steinway Sts, 60...</td>\n",
       "      <td>0.73</td>\n",
       "      <td>1.18</td>\n",
       "      <td>NaN</td>\n",
       "      <td>&lt;1</td>\n",
       "      <td>&lt;1</td>\n",
       "    </tr>\n",
       "    <tr>\n",
       "      <th>26</th>\n",
       "      <td>01/01/2015</td>\n",
       "      <td>12:54</td>\n",
       "      <td>41850</td>\n",
       "      <td>Compliance</td>\n",
       "      <td>SS - IFO 67-02 W/S Bell Blvd, 1st SS S/O 67th ...</td>\n",
       "      <td>0.54</td>\n",
       "      <td>1.17</td>\n",
       "      <td>NaN</td>\n",
       "      <td>&lt;1</td>\n",
       "      <td>&lt;1</td>\n",
       "    </tr>\n",
       "    <tr>\n",
       "      <th>...</th>\n",
       "      <td>...</td>\n",
       "      <td>...</td>\n",
       "      <td>...</td>\n",
       "      <td>...</td>\n",
       "      <td>...</td>\n",
       "      <td>...</td>\n",
       "      <td>...</td>\n",
       "      <td>...</td>\n",
       "      <td>...</td>\n",
       "      <td>...</td>\n",
       "    </tr>\n",
       "    <tr>\n",
       "      <th>50776</th>\n",
       "      <td>06/18/2018</td>\n",
       "      <td>08:31</td>\n",
       "      <td>47500</td>\n",
       "      <td>Operational</td>\n",
       "      <td>SS - IFO 20-10 W/S Cross Bay Blvd, btw W 20th ...</td>\n",
       "      <td>0.61</td>\n",
       "      <td>1.17</td>\n",
       "      <td>NaN</td>\n",
       "      <td>&lt;1</td>\n",
       "      <td>&lt;1</td>\n",
       "    </tr>\n",
       "    <tr>\n",
       "      <th>51048</th>\n",
       "      <td>06/24/2018</td>\n",
       "      <td>11:27</td>\n",
       "      <td>45850</td>\n",
       "      <td>Compliance</td>\n",
       "      <td>SS - N/S Sutter Ave, 1st SS E/O 91st St, 12\"</td>\n",
       "      <td>0.60</td>\n",
       "      <td>1.07</td>\n",
       "      <td>NaN</td>\n",
       "      <td>&lt;1</td>\n",
       "      <td>&lt;1</td>\n",
       "    </tr>\n",
       "    <tr>\n",
       "      <th>51054</th>\n",
       "      <td>06/24/2018</td>\n",
       "      <td>10:25</td>\n",
       "      <td>77550</td>\n",
       "      <td>Compliance</td>\n",
       "      <td>SS - IFO E/S 222nd St, btw 91st Rd &amp; 92nd Ave</td>\n",
       "      <td>0.34</td>\n",
       "      <td>1.83</td>\n",
       "      <td>NaN</td>\n",
       "      <td>&lt;1</td>\n",
       "      <td>&lt;1</td>\n",
       "    </tr>\n",
       "    <tr>\n",
       "      <th>51257</th>\n",
       "      <td>06/29/2018</td>\n",
       "      <td>09:05</td>\n",
       "      <td>21850</td>\n",
       "      <td>Compliance</td>\n",
       "      <td>SS - IFO 37 E/S 7th Ave, 1st SS S/O St Johns P...</td>\n",
       "      <td>0.51</td>\n",
       "      <td>1.03</td>\n",
       "      <td>NaN</td>\n",
       "      <td>&lt;1</td>\n",
       "      <td>&lt;1</td>\n",
       "    </tr>\n",
       "    <tr>\n",
       "      <th>51320</th>\n",
       "      <td>06/30/2018</td>\n",
       "      <td>11:26</td>\n",
       "      <td>45650</td>\n",
       "      <td>Compliance</td>\n",
       "      <td>SS - IFO 107-02 W/S 109th St, 1st SS S/O 107th...</td>\n",
       "      <td>0.44</td>\n",
       "      <td>1.01</td>\n",
       "      <td>NaN</td>\n",
       "      <td>&lt;1</td>\n",
       "      <td>&lt;1</td>\n",
       "    </tr>\n",
       "  </tbody>\n",
       "</table>\n",
       "<p>5924 rows × 10 columns</p>\n",
       "</div>"
      ],
      "text/plain": [
       "      Sample Date Sample Time Sample Site Sample class  \\\n",
       "5      01/01/2015       08:41       13850   Compliance   \n",
       "12     01/01/2015       09:00       23650   Compliance   \n",
       "15     01/01/2015       10:28       27000  Operational   \n",
       "22     01/01/2015       08:07       40200  Operational   \n",
       "26     01/01/2015       12:54       41850   Compliance   \n",
       "...           ...         ...         ...          ...   \n",
       "50776  06/18/2018       08:31       47500  Operational   \n",
       "51048  06/24/2018       11:27       45850   Compliance   \n",
       "51054  06/24/2018       10:25       77550   Compliance   \n",
       "51257  06/29/2018       09:05       21850   Compliance   \n",
       "51320  06/30/2018       11:26       45650   Compliance   \n",
       "\n",
       "                                                Location  \\\n",
       "5      SS - IFO 1778 E/S Jerome Ave, 1st SS S/O E 176...   \n",
       "12      SS - E/S Nostrand Ave, 2nd SS N/O Ave W, 20 inch   \n",
       "15     SS - IFO 383 W/S Hooper St, btw S 1st & S 2nd ...   \n",
       "22     SS - S/S 19th Ave, btw 41st & Steinway Sts, 60...   \n",
       "26     SS - IFO 67-02 W/S Bell Blvd, 1st SS S/O 67th ...   \n",
       "...                                                  ...   \n",
       "50776  SS - IFO 20-10 W/S Cross Bay Blvd, btw W 20th ...   \n",
       "51048       SS - N/S Sutter Ave, 1st SS E/O 91st St, 12\"   \n",
       "51054      SS - IFO E/S 222nd St, btw 91st Rd & 92nd Ave   \n",
       "51257  SS - IFO 37 E/S 7th Ave, 1st SS S/O St Johns P...   \n",
       "51320  SS - IFO 107-02 W/S 109th St, 1st SS S/O 107th...   \n",
       "\n",
       "       Residual Free Chlorine  Turbidity  Fluoride Coliform Ecoli  \n",
       "5                        0.59       1.08       NaN      <1    <1   \n",
       "12                       0.63       1.02       NaN      <1    <1   \n",
       "15                       0.53       1.06       NaN      <1    <1   \n",
       "22                       0.73       1.18       NaN      <1    <1   \n",
       "26                       0.54       1.17       NaN      <1    <1   \n",
       "...                       ...        ...       ...      ...   ...  \n",
       "50776                    0.61       1.17       NaN      <1    <1   \n",
       "51048                    0.60       1.07       NaN      <1    <1   \n",
       "51054                    0.34       1.83       NaN      <1    <1   \n",
       "51257                    0.51       1.03       NaN      <1    <1   \n",
       "51320                    0.44       1.01       NaN      <1    <1   \n",
       "\n",
       "[5924 rows x 10 columns]"
      ]
     },
     "execution_count": 51,
     "metadata": {},
     "output_type": "execute_result"
    }
   ],
   "source": [
    "df[df[\"Turbidity\"]>1]"
   ]
  },
  {
   "cell_type": "markdown",
   "id": "6464b1c6",
   "metadata": {},
   "source": [
    "**Out of total 51 K samples, 5924 samples were found to have Turbidity greater than recommended value of 1 NTU.** We need to analyze the locations having turbidity greater than 1 NTU"
   ]
  },
  {
   "cell_type": "markdown",
   "id": "887b2ca8",
   "metadata": {},
   "source": [
    "Let us check what percentage of samples are crossing the recommended limits"
   ]
  },
  {
   "cell_type": "code",
   "execution_count": 53,
   "id": "11ab1895",
   "metadata": {},
   "outputs": [
    {
     "name": "stdout",
     "output_type": "stream",
     "text": [
      "Percentage of records with high turbidity 11.541683714224483 %\n"
     ]
    }
   ],
   "source": [
    "records_with_high_turbidity=df[df[\"Turbidity\"]>1].shape[0]\n",
    "total_records = df.shape[0]\n",
    "print(\"Percentage of records with high turbidity\",(records_with_high_turbidity/total_records)*100,\"%\")"
   ]
  },
  {
   "cell_type": "code",
   "execution_count": 55,
   "id": "d3849250",
   "metadata": {},
   "outputs": [],
   "source": [
    "location_with_high_turbidity = list(df[df[\"Turbidity\"] > 1][\"Location\"])"
   ]
  },
  {
   "cell_type": "code",
   "execution_count": 56,
   "id": "182c0008",
   "metadata": {},
   "outputs": [
    {
     "name": "stdout",
     "output_type": "stream",
     "text": [
      "Location with max number of samples resulting in high turbidity than recommended -  SS - S/S 19th Ave, btw 41st & Steinway Sts, 60 inch\n"
     ]
    }
   ],
   "source": [
    "from collections import Counter\n",
    "locations = dict(Counter(location_with_high_turbidity))\n",
    "print(\"Location with max number of samples resulting in high turbidity than recommended - \",  max(locations, key = locations.get))"
   ]
  },
  {
   "cell_type": "markdown",
   "id": "6d89f7d9",
   "metadata": {},
   "source": [
    "# Anlayzing the quantity of Coliform"
   ]
  },
  {
   "cell_type": "markdown",
   "id": "858dc567",
   "metadata": {},
   "source": [
    "Coliform bacteria are organisms that are present in the environment and in the feces of all warm-blooded animals and humans. Coliform bacteria will not likely cause illness. However, their presence in drinking water indicates that disease-causing organisms (pathogens) could be in the water system. As per the recommendation, no sample should contain more than 10 coliform organisms per 100 ml"
   ]
  },
  {
   "cell_type": "markdown",
   "id": "2473f57f",
   "metadata": {},
   "source": [
    "Let us remove all special charaters from Coliform column and convert the data into float"
   ]
  },
  {
   "cell_type": "code",
   "execution_count": 59,
   "id": "a123c350",
   "metadata": {},
   "outputs": [],
   "source": [
    "df[\"Coliform\"] = df[\"Coliform\"].str.replace(\"<\", \"\")\n",
    "df[\"Coliform\"] = df[\"Coliform\"].str.replace(\">\", \"\")\n",
    "df[\"Coliform\"] = df[\"Coliform\"].str.replace(\" \", \"\")\n",
    "df[\"Coliform\"] = df[\"Coliform\"].str.replace(\"-\", \"\")\n",
    "\n",
    "df[\"Coliform\"] = pd.to_numeric(df[\"Coliform\"], errors = \"ignore\")"
   ]
  },
  {
   "cell_type": "code",
   "execution_count": 60,
   "id": "d8a2f09b",
   "metadata": {},
   "outputs": [
    {
     "name": "stdout",
     "output_type": "stream",
     "text": [
      "<class 'pandas.core.frame.DataFrame'>\n",
      "RangeIndex: 51327 entries, 0 to 51326\n",
      "Data columns (total 10 columns):\n",
      " #   Column                  Non-Null Count  Dtype  \n",
      "---  ------                  --------------  -----  \n",
      " 0   Sample Date             51327 non-null  object \n",
      " 1   Sample Time             51327 non-null  object \n",
      " 2   Sample Site             51327 non-null  object \n",
      " 3   Sample class            51327 non-null  object \n",
      " 4   Location                51327 non-null  object \n",
      " 5   Residual Free Chlorine  51324 non-null  float64\n",
      " 6   Turbidity               51165 non-null  float64\n",
      " 7   Fluoride                6595 non-null   float64\n",
      " 8   Coliform                51326 non-null  float64\n",
      " 9   Ecoli                   51327 non-null  object \n",
      "dtypes: float64(4), object(6)\n",
      "memory usage: 3.9+ MB\n"
     ]
    }
   ],
   "source": [
    "df.info()"
   ]
  },
  {
   "cell_type": "markdown",
   "id": "6d795925",
   "metadata": {},
   "source": [
    "As per the recommendation, we should not have Coliform value more than 10. Let us see how many of the samples have values greater than 10\n",
    "\n"
   ]
  },
  {
   "cell_type": "code",
   "execution_count": 61,
   "id": "9bfee1a5",
   "metadata": {},
   "outputs": [
    {
     "data": {
      "text/html": [
       "<div>\n",
       "<style scoped>\n",
       "    .dataframe tbody tr th:only-of-type {\n",
       "        vertical-align: middle;\n",
       "    }\n",
       "\n",
       "    .dataframe tbody tr th {\n",
       "        vertical-align: top;\n",
       "    }\n",
       "\n",
       "    .dataframe thead th {\n",
       "        text-align: right;\n",
       "    }\n",
       "</style>\n",
       "<table border=\"1\" class=\"dataframe\">\n",
       "  <thead>\n",
       "    <tr style=\"text-align: right;\">\n",
       "      <th></th>\n",
       "      <th>Sample Date</th>\n",
       "      <th>Sample Time</th>\n",
       "      <th>Sample Site</th>\n",
       "      <th>Sample class</th>\n",
       "      <th>Location</th>\n",
       "      <th>Residual Free Chlorine</th>\n",
       "      <th>Turbidity</th>\n",
       "      <th>Fluoride</th>\n",
       "      <th>Coliform</th>\n",
       "      <th>Ecoli</th>\n",
       "    </tr>\n",
       "  </thead>\n",
       "  <tbody>\n",
       "    <tr>\n",
       "      <th>4082</th>\n",
       "      <td>04/14/2015</td>\n",
       "      <td>08:57</td>\n",
       "      <td>20300</td>\n",
       "      <td>Operational</td>\n",
       "      <td>SS - N/S Luquer St, btw Columbia &amp; Hicks Sts, ...</td>\n",
       "      <td>0.62</td>\n",
       "      <td>1.24</td>\n",
       "      <td>NaN</td>\n",
       "      <td>17.8</td>\n",
       "      <td>&lt;1</td>\n",
       "    </tr>\n",
       "    <tr>\n",
       "      <th>6663</th>\n",
       "      <td>06/12/2015</td>\n",
       "      <td>11:26</td>\n",
       "      <td>45000</td>\n",
       "      <td>Operational</td>\n",
       "      <td>SS - E/S Douglaston Pkwy, btw 66th &amp; 67th Aves...</td>\n",
       "      <td>0.61</td>\n",
       "      <td>1.13</td>\n",
       "      <td>NaN</td>\n",
       "      <td>12.4</td>\n",
       "      <td>&lt;1</td>\n",
       "    </tr>\n",
       "    <tr>\n",
       "      <th>7570</th>\n",
       "      <td>07/02/2015</td>\n",
       "      <td>08:46</td>\n",
       "      <td>79550</td>\n",
       "      <td>Compliance</td>\n",
       "      <td>SS - Opp 109-11 W/S 127th St, 2nd SS S/O 109th...</td>\n",
       "      <td>0.06</td>\n",
       "      <td>0.75</td>\n",
       "      <td>NaN</td>\n",
       "      <td>20.7</td>\n",
       "      <td>&lt;1</td>\n",
       "    </tr>\n",
       "    <tr>\n",
       "      <th>7645</th>\n",
       "      <td>07/04/2015</td>\n",
       "      <td>09:46</td>\n",
       "      <td>79550</td>\n",
       "      <td>Resample_Compliance</td>\n",
       "      <td>W/S 127th St, 1st HT N/O Hawtree St</td>\n",
       "      <td>0.07</td>\n",
       "      <td>1.52</td>\n",
       "      <td>NaN</td>\n",
       "      <td>23.8</td>\n",
       "      <td>&lt;1</td>\n",
       "    </tr>\n",
       "    <tr>\n",
       "      <th>7904</th>\n",
       "      <td>07/10/2015</td>\n",
       "      <td>10:44</td>\n",
       "      <td>50650</td>\n",
       "      <td>Compliance</td>\n",
       "      <td>SS - E/S York Ave, 1st SS N/O Pauw St, 8\"</td>\n",
       "      <td>0.54</td>\n",
       "      <td>0.73</td>\n",
       "      <td>NaN</td>\n",
       "      <td>13.7</td>\n",
       "      <td>&lt;1</td>\n",
       "    </tr>\n",
       "    <tr>\n",
       "      <th>...</th>\n",
       "      <td>...</td>\n",
       "      <td>...</td>\n",
       "      <td>...</td>\n",
       "      <td>...</td>\n",
       "      <td>...</td>\n",
       "      <td>...</td>\n",
       "      <td>...</td>\n",
       "      <td>...</td>\n",
       "      <td>...</td>\n",
       "      <td>...</td>\n",
       "    </tr>\n",
       "    <tr>\n",
       "      <th>44016</th>\n",
       "      <td>12/16/2017</td>\n",
       "      <td>10:08</td>\n",
       "      <td>1S07</td>\n",
       "      <td>Operational</td>\n",
       "      <td>SS - Shaft 7 of City Tunnel No. 1 - W/S Sedgwi...</td>\n",
       "      <td>0.67</td>\n",
       "      <td>0.87</td>\n",
       "      <td>0.72</td>\n",
       "      <td>200.5</td>\n",
       "      <td>&lt;1</td>\n",
       "    </tr>\n",
       "    <tr>\n",
       "      <th>44032</th>\n",
       "      <td>12/16/2017</td>\n",
       "      <td>10:00</td>\n",
       "      <td>28550</td>\n",
       "      <td>Compliance</td>\n",
       "      <td>SS - E/S W 5th St, 2nd SS S/O Neptune Ave, 12 ...</td>\n",
       "      <td>0.64</td>\n",
       "      <td>0.91</td>\n",
       "      <td>NaN</td>\n",
       "      <td>200.5</td>\n",
       "      <td>&lt;1</td>\n",
       "    </tr>\n",
       "    <tr>\n",
       "      <th>45100</th>\n",
       "      <td>01/11/2018</td>\n",
       "      <td>10:12</td>\n",
       "      <td>1S03</td>\n",
       "      <td>Operational</td>\n",
       "      <td>Shaft 3 riser feed, Tap in Gatehouse #7 Jerome...</td>\n",
       "      <td>0.68</td>\n",
       "      <td>0.90</td>\n",
       "      <td>0.76</td>\n",
       "      <td>200.5</td>\n",
       "      <td>&lt;1</td>\n",
       "    </tr>\n",
       "    <tr>\n",
       "      <th>45811</th>\n",
       "      <td>01/26/2018</td>\n",
       "      <td>10:40</td>\n",
       "      <td>59350</td>\n",
       "      <td>Compliance</td>\n",
       "      <td>SS - IFO 1824 S/S Victory Blvd, btw Raymond Av...</td>\n",
       "      <td>0.56</td>\n",
       "      <td>0.85</td>\n",
       "      <td>NaN</td>\n",
       "      <td>200.5</td>\n",
       "      <td>&lt;1</td>\n",
       "    </tr>\n",
       "    <tr>\n",
       "      <th>46128</th>\n",
       "      <td>02/03/2018</td>\n",
       "      <td>09:50</td>\n",
       "      <td>1S03A</td>\n",
       "      <td>Operational</td>\n",
       "      <td>SS - Shaft 3A of City Tunnel No. 2 - IFO 823 S...</td>\n",
       "      <td>0.76</td>\n",
       "      <td>0.81</td>\n",
       "      <td>0.76</td>\n",
       "      <td>200.5</td>\n",
       "      <td>&lt;1</td>\n",
       "    </tr>\n",
       "  </tbody>\n",
       "</table>\n",
       "<p>70 rows × 10 columns</p>\n",
       "</div>"
      ],
      "text/plain": [
       "      Sample Date Sample Time Sample Site         Sample class  \\\n",
       "4082   04/14/2015       08:57       20300          Operational   \n",
       "6663   06/12/2015       11:26       45000          Operational   \n",
       "7570   07/02/2015       08:46       79550           Compliance   \n",
       "7645   07/04/2015       09:46       79550  Resample_Compliance   \n",
       "7904   07/10/2015       10:44       50650           Compliance   \n",
       "...           ...         ...         ...                  ...   \n",
       "44016  12/16/2017       10:08        1S07          Operational   \n",
       "44032  12/16/2017       10:00       28550           Compliance   \n",
       "45100  01/11/2018       10:12        1S03          Operational   \n",
       "45811  01/26/2018       10:40       59350           Compliance   \n",
       "46128  02/03/2018       09:50       1S03A          Operational   \n",
       "\n",
       "                                                Location  \\\n",
       "4082   SS - N/S Luquer St, btw Columbia & Hicks Sts, ...   \n",
       "6663   SS - E/S Douglaston Pkwy, btw 66th & 67th Aves...   \n",
       "7570   SS - Opp 109-11 W/S 127th St, 2nd SS S/O 109th...   \n",
       "7645                 W/S 127th St, 1st HT N/O Hawtree St   \n",
       "7904           SS - E/S York Ave, 1st SS N/O Pauw St, 8\"   \n",
       "...                                                  ...   \n",
       "44016  SS - Shaft 7 of City Tunnel No. 1 - W/S Sedgwi...   \n",
       "44032  SS - E/S W 5th St, 2nd SS S/O Neptune Ave, 12 ...   \n",
       "45100  Shaft 3 riser feed, Tap in Gatehouse #7 Jerome...   \n",
       "45811  SS - IFO 1824 S/S Victory Blvd, btw Raymond Av...   \n",
       "46128  SS - Shaft 3A of City Tunnel No. 2 - IFO 823 S...   \n",
       "\n",
       "       Residual Free Chlorine  Turbidity  Fluoride  Coliform Ecoli  \n",
       "4082                     0.62       1.24       NaN      17.8   <1   \n",
       "6663                     0.61       1.13       NaN      12.4   <1   \n",
       "7570                     0.06       0.75       NaN      20.7   <1   \n",
       "7645                     0.07       1.52       NaN      23.8   <1   \n",
       "7904                     0.54       0.73       NaN      13.7   <1   \n",
       "...                       ...        ...       ...       ...   ...  \n",
       "44016                    0.67       0.87      0.72     200.5   <1   \n",
       "44032                    0.64       0.91       NaN     200.5   <1   \n",
       "45100                    0.68       0.90      0.76     200.5   <1   \n",
       "45811                    0.56       0.85       NaN     200.5   <1   \n",
       "46128                    0.76       0.81      0.76     200.5   <1   \n",
       "\n",
       "[70 rows x 10 columns]"
      ]
     },
     "execution_count": 61,
     "metadata": {},
     "output_type": "execute_result"
    }
   ],
   "source": [
    "df[df[\"Coliform\"] > 10]"
   ]
  },
  {
   "cell_type": "markdown",
   "id": "754edb1a",
   "metadata": {},
   "source": [
    "**There are 70 samples with Coliform value greater than 10** "
   ]
  },
  {
   "cell_type": "markdown",
   "id": "3b1ee64d",
   "metadata": {},
   "source": [
    "Let us get the list of locations with this Coliform value"
   ]
  },
  {
   "cell_type": "code",
   "execution_count": 62,
   "id": "8997c7ab",
   "metadata": {},
   "outputs": [],
   "source": [
    "locations_with_high_coliform = list(df[df[\"Coliform\"] > 10][\"Location\"])"
   ]
  },
  {
   "cell_type": "code",
   "execution_count": 64,
   "id": "5009e30e",
   "metadata": {},
   "outputs": [
    {
     "name": "stdout",
     "output_type": "stream",
     "text": [
      "Location with max number of samples resulting in high coliform than recommended -  SS - Shaft 3A of City Tunnel No. 2 - IFO 823 S/S E 233rd St, W/O Bronxwood Ave\n"
     ]
    }
   ],
   "source": [
    "locations = dict(Counter(locations_with_high_coliform))\n",
    "print(\"Location with max number of samples resulting in high coliform than recommended - \",  max(locations, key = locations.get))"
   ]
  },
  {
   "cell_type": "markdown",
   "id": "be5fdcd2",
   "metadata": {},
   "source": [
    "# Locations having Turbidity and Coliform value more than recommended one"
   ]
  },
  {
   "cell_type": "markdown",
   "id": "f5fb1073",
   "metadata": {},
   "source": [
    "Let us get the list of locations where both Turbidity and Coliform is highger than the recommended value"
   ]
  },
  {
   "cell_type": "code",
   "execution_count": 65,
   "id": "cb4d8d09",
   "metadata": {},
   "outputs": [
    {
     "name": "stdout",
     "output_type": "stream",
     "text": [
      "Number of locations with high values of Turbidity and Coliform  55\n"
     ]
    }
   ],
   "source": [
    "common_list = []\n",
    "for location_coliform in locations_with_high_coliform:\n",
    "    for location_turbidity in location_with_high_turbidity:\n",
    "        if location_coliform == location_turbidity:\n",
    "            common_list.append(location_coliform)\n",
    "\n",
    "common_locations = list(set(common_list))\n",
    "print(\"Number of locations with high values of Turbidity and Coliform \", len(common_locations))"
   ]
  },
  {
   "cell_type": "markdown",
   "id": "fee780ec",
   "metadata": {},
   "source": [
    "# Conclusions"
   ]
  },
  {
   "cell_type": "markdown",
   "id": "6efde396",
   "metadata": {},
   "source": [
    "**None of the samples had Residual Free Chlorine value crossing the WHO recommended count**\n",
    "\n",
    "**11% of samples suggested that water is not good for drinking due to high Turbidity** - 5924 samples, i.e. 11% of samples were found to have high turbidity. Out of these samples \"SS - S/S 19th Ave, btw 41st & Steinway Sts, 60 inch\" had most number of samples crossing the defined limits of risk.\n",
    "\n",
    "**0.13 % samples suggest that water is not good for drinking due to high Coliform value** - 70 samples were found to have higher Coliform value than the recommended amount of 10 per 100 ml of drinking water. Out of these samples  \"SS - Shaft 3A of City Tunnel No. 2 - IFO 823 S/S E 233rd St, W/O Bronxwood Ave\" had most number of samples crossing the defined limits of risk.\n",
    "\n",
    "**7% of locations had water not good for drinking** - There are 55 locations in New York with both high Turbidity and high Coliform count"
   ]
  },
  {
   "cell_type": "code",
   "execution_count": null,
   "id": "27f6f61f",
   "metadata": {},
   "outputs": [],
   "source": []
  }
 ],
 "metadata": {
  "kernelspec": {
   "display_name": "Python 3 (ipykernel)",
   "language": "python",
   "name": "python3"
  },
  "language_info": {
   "codemirror_mode": {
    "name": "ipython",
    "version": 3
   },
   "file_extension": ".py",
   "mimetype": "text/x-python",
   "name": "python",
   "nbconvert_exporter": "python",
   "pygments_lexer": "ipython3",
   "version": "3.10.0"
  }
 },
 "nbformat": 4,
 "nbformat_minor": 5
}
